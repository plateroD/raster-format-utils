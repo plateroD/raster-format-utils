{
 "cells": [
  {
   "cell_type": "code",
   "execution_count": 1,
   "id": "b4e53db5",
   "metadata": {},
   "outputs": [
    {
     "name": "stdout",
     "output_type": "stream",
     "text": [
      "GeoTIFF 16-bit raster saved: E:\\DEMs\\Headwaters_Boyer_River\\KFactor_16bit.tif\n"
     ]
    }
   ],
   "source": [
    "import rasterio\n",
    "import numpy as np\n",
    "\n",
    "in_fp = r\"E:\\DEMs\\Headwaters_Boyer_River\\KFactor_8_bit.tif\"\n",
    "out_fp = r\"E:\\DEMs\\Headwaters_Boyer_River\\KFactor_16bit.tif\"\n",
    "\n",
    "with rasterio.open(in_fp) as src:\n",
    "    data = src.read(1)\n",
    "    profile = src.profile.copy()\n",
    "    # Change dtype to int16\n",
    "    profile.update(dtype='int16', count=1, compress='lzw')\n",
    "    \n",
    "    # No value changes needed\n",
    "    data16 = data.astype(np.int16)\n",
    "    \n",
    "    with rasterio.open(out_fp, 'w', **profile) as dst:\n",
    "        dst.write(data16, 1)\n",
    "\n",
    "print(\"GeoTIFF 16-bit raster saved:\", out_fp)\n"
   ]
  },
  {
   "cell_type": "code",
   "execution_count": 2,
   "id": "ef4b5c77",
   "metadata": {},
   "outputs": [
    {
     "name": "stdout",
     "output_type": "stream",
     "text": [
      "RST raster saved: E:\\DEMs\\Headwaters_Boyer_River\\KFactor_16bit.rst\n"
     ]
    }
   ],
   "source": [
    "import subprocess\n",
    "\n",
    "tif_fp = r\"E:\\DEMs\\Headwaters_Boyer_River\\KFactor_16bit.tif\"\n",
    "rst_fp = r\"E:\\DEMs\\Headwaters_Boyer_River\\KFactor_16bit.rst\"\n",
    "\n",
    "# The driver for Idrisi raster is 'RST'\n",
    "subprocess.run([\n",
    "    \"gdal_translate\",\n",
    "    \"-of\", \"RST\",\n",
    "    tif_fp,\n",
    "    rst_fp\n",
    "])\n",
    "\n",
    "print(\"RST raster saved:\", rst_fp)\n"
   ]
  }
 ],
 "metadata": {
  "kernelspec": {
   "display_name": "pygeospatial",
   "language": "python",
   "name": "python3"
  },
  "language_info": {
   "codemirror_mode": {
    "name": "ipython",
    "version": 3
   },
   "file_extension": ".py",
   "mimetype": "text/x-python",
   "name": "python",
   "nbconvert_exporter": "python",
   "pygments_lexer": "ipython3",
   "version": "3.12.3"
  }
 },
 "nbformat": 4,
 "nbformat_minor": 5
}
